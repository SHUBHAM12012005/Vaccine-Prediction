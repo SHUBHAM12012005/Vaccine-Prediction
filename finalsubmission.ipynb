{
  "nbformat": 4,
  "nbformat_minor": 0,
  "metadata": {
    "colab": {
      "provenance": [],
      "mount_file_id": "15l3FgWtGX6X6IElAq7dFkvEkIlT2mHQ-",
      "authorship_tag": "ABX9TyMXtVIZ65rbyZzcslw5/kFb",
      "include_colab_link": true
    },
    "kernelspec": {
      "name": "python3",
      "display_name": "Python 3"
    },
    "language_info": {
      "name": "python"
    }
  },
  "cells": [
    {
      "cell_type": "markdown",
      "metadata": {
        "id": "view-in-github",
        "colab_type": "text"
      },
      "source": [
        "<a href=\"https://colab.research.google.com/github/SHUBHAM12012005/Vaccine-Prediction/blob/main/finalsubmission.ipynb\" target=\"_parent\"><img src=\"https://colab.research.google.com/assets/colab-badge.svg\" alt=\"Open In Colab\"/></a>"
      ]
    },
    {
      "cell_type": "code",
      "execution_count": null,
      "metadata": {
        "colab": {
          "base_uri": "https://localhost:8080/"
        },
        "id": "zF05_4O0Ye9K",
        "outputId": "3e5a4040-ae2c-4c6e-b7c4-dcf34fcf3dd4"
      },
      "outputs": [
        {
          "output_type": "stream",
          "name": "stdout",
          "text": [
            "Drive already mounted at /content/drive; to attempt to forcibly remount, call drive.mount(\"/content/drive\", force_remount=True).\n"
          ]
        }
      ],
      "source": [
        "from google.colab import drive\n",
        "drive.mount('/content/drive')\n"
      ]
    },
    {
      "cell_type": "code",
      "source": [
        "import pandas as pd\n",
        "from sklearn.pipeline import Pipeline\n",
        "from sklearn.compose import ColumnTransformer\n",
        "from sklearn.impute import SimpleImputer\n",
        "from sklearn.preprocessing import OneHotEncoder\n",
        "from sklearn.ensemble import GradientBoostingClassifier\n",
        "from sklearn.multioutput import MultiOutputClassifier\n",
        "from sklearn.model_selection import train_test_split\n",
        "from sklearn.metrics import roc_auc_score\n",
        "import numpy as np\n",
        "\n",
        "train_features_path = '/content/drive/My Drive/hackathon1/training_set_features.csv'\n",
        "train_labels_path = '/content/drive/My Drive/hackathon1/training_set_labels.csv'\n",
        "test_features_path = '/content/drive/My Drive/hackathon1/test_set_features.csv'\n",
        "\n",
        "# Read the datasets\n",
        "train_features = pd.read_csv(train_features_path)\n",
        "train_labels = pd.read_csv(train_labels_path)\n",
        "test_features = pd.read_csv(test_features_path)\n",
        "\n",
        "df = train_features.merge(train_labels, on='respondent_id')\n",
        "y = df[['xyz_vaccine', 'seasonal_vaccine']]\n",
        "X = df.drop(columns=['respondent_id', 'xyz_vaccine', 'seasonal_vaccine'])\n",
        "\n",
        "numerical_features = X.select_dtypes(include=['int64', 'float64']).columns\n",
        "categorical_features = X.select_dtypes(include=['object']).columns\n",
        "\n",
        "numerical_transformer = SimpleImputer(strategy='median')\n",
        "categorical_transformer = Pipeline(steps=[\n",
        "    ('imputer', SimpleImputer(strategy='most_frequent')),\n",
        "    ('onehot', OneHotEncoder(handle_unknown='ignore'))\n",
        "])\n",
        "\n",
        "preprocessor = ColumnTransformer(\n",
        "    transformers=[\n",
        "        ('num', numerical_transformer, numerical_features),\n",
        "        ('cat', categorical_transformer, categorical_features)\n",
        "    ])\n",
        "\n",
        "model = MultiOutputClassifier(GradientBoostingClassifier(random_state=42))\n",
        "\n",
        "pipeline = Pipeline(steps=[('preprocessor', preprocessor),\n",
        "                           ('classifier', model)])\n",
        "\n",
        "X_train, X_val, y_train, y_val = train_test_split(X, y, test_size=0.2, random_state=42)\n",
        "\n",
        "pipeline.fit(X_train, y_train)\n",
        "\n",
        "y_pred_proba = pipeline.predict_proba(X_val)\n",
        "\n",
        "y_pred_proba_df = pd.DataFrame(np.hstack([y_pred_proba[0][:, 1].reshape(-1, 1), y_pred_proba[1][:, 1].reshape(-1, 1)]),\n",
        "                               columns=['xyz_vaccine', 'seasonal_vaccine'])\n",
        "\n",
        "roc_auc_xyz = roc_auc_score(y_val['xyz_vaccine'], y_pred_proba_df['xyz_vaccine'])\n",
        "roc_auc_seasonal = roc_auc_score(y_val['seasonal_vaccine'], y_pred_proba_df['seasonal_vaccine'])\n",
        "mean_roc_auc = (roc_auc_xyz + roc_auc_seasonal) / 2\n",
        "\n",
        "print(f\"ROC AUC for xyz_vaccine: {roc_auc_xyz}\")\n",
        "print(f\"ROC AUC for seasonal_vaccine: {roc_auc_seasonal}\")\n",
        "print(f\"Mean ROC AUC: {mean_roc_auc}\")\n",
        "\n",
        "test_pred_proba = pipeline.predict_proba(test_features.drop(columns=['respondent_id']))\n",
        "\n",
        "test_pred_proba_df = pd.DataFrame(np.hstack([test_pred_proba[0][:, 1].reshape(-1, 1), test_pred_proba[1][:, 1].reshape(-1, 1)]),\n",
        "                                  columns=['xyz_vaccine', 'seasonal_vaccine'])\n",
        "\n",
        "submission = pd.DataFrame({\n",
        "    'respondent_id': test_features['respondent_id'],\n",
        "    'xyz_vaccine': test_pred_proba_df['xyz_vaccine'],\n",
        "    'seasonal_vaccine': test_pred_proba_df['seasonal_vaccine']\n",
        "})\n",
        "\n",
        "# Save the submission file in Colab\n",
        "submission.to_csv('submission.csv', index=False)\n",
        "print(\"Submission file created successfully.\")\n",
        "\n",
        "# Display the created CSV file\n",
        "print(submission.head())\n"
      ],
      "metadata": {
        "colab": {
          "base_uri": "https://localhost:8080/"
        },
        "id": "uGjJirUAYuGz",
        "outputId": "bfbfd409-812b-40e1-fefd-8a8e9350dea5"
      },
      "execution_count": 5,
      "outputs": [
        {
          "output_type": "stream",
          "name": "stdout",
          "text": [
            "ROC AUC for xyz_vaccine: 0.838986692047164\n",
            "ROC AUC for seasonal_vaccine: 0.8608546254424846\n",
            "Mean ROC AUC: 0.8499206587448243\n",
            "Submission file created successfully.\n",
            "   respondent_id  xyz_vaccine  seasonal_vaccine\n",
            "0          26707     0.078160          0.237642\n",
            "1          26708     0.038951          0.044384\n",
            "2          26709     0.448829          0.769918\n",
            "3          26710     0.578219          0.839197\n",
            "4          26711     0.236440          0.536293\n"
          ]
        }
      ]
    },
    {
      "cell_type": "code",
      "source": [
        "from google.colab import files\n",
        "files.download('submission.csv')"
      ],
      "metadata": {
        "colab": {
          "base_uri": "https://localhost:8080/",
          "height": 17
        },
        "id": "ZWOreoRGPLj2",
        "outputId": "7419dab4-e0d8-487d-cd1d-8b04fa1bbca8"
      },
      "execution_count": 6,
      "outputs": [
        {
          "output_type": "display_data",
          "data": {
            "text/plain": [
              "<IPython.core.display.Javascript object>"
            ],
            "application/javascript": [
              "\n",
              "    async function download(id, filename, size) {\n",
              "      if (!google.colab.kernel.accessAllowed) {\n",
              "        return;\n",
              "      }\n",
              "      const div = document.createElement('div');\n",
              "      const label = document.createElement('label');\n",
              "      label.textContent = `Downloading \"${filename}\": `;\n",
              "      div.appendChild(label);\n",
              "      const progress = document.createElement('progress');\n",
              "      progress.max = size;\n",
              "      div.appendChild(progress);\n",
              "      document.body.appendChild(div);\n",
              "\n",
              "      const buffers = [];\n",
              "      let downloaded = 0;\n",
              "\n",
              "      const channel = await google.colab.kernel.comms.open(id);\n",
              "      // Send a message to notify the kernel that we're ready.\n",
              "      channel.send({})\n",
              "\n",
              "      for await (const message of channel.messages) {\n",
              "        // Send a message to notify the kernel that we're ready.\n",
              "        channel.send({})\n",
              "        if (message.buffers) {\n",
              "          for (const buffer of message.buffers) {\n",
              "            buffers.push(buffer);\n",
              "            downloaded += buffer.byteLength;\n",
              "            progress.value = downloaded;\n",
              "          }\n",
              "        }\n",
              "      }\n",
              "      const blob = new Blob(buffers, {type: 'application/binary'});\n",
              "      const a = document.createElement('a');\n",
              "      a.href = window.URL.createObjectURL(blob);\n",
              "      a.download = filename;\n",
              "      div.appendChild(a);\n",
              "      a.click();\n",
              "      div.remove();\n",
              "    }\n",
              "  "
            ]
          },
          "metadata": {}
        },
        {
          "output_type": "display_data",
          "data": {
            "text/plain": [
              "<IPython.core.display.Javascript object>"
            ],
            "application/javascript": [
              "download(\"download_f9ab730a-023b-42d7-ab2d-e6830e4421ad\", \"submission.csv\", 1202650)"
            ]
          },
          "metadata": {}
        }
      ]
    },
    {
      "cell_type": "markdown",
      "source": [],
      "metadata": {
        "id": "3D2B8Vc5famt"
      }
    }
  ]
}