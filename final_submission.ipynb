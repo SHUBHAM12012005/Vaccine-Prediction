{
  "nbformat": 4,
  "nbformat_minor": 0,
  "metadata": {
    "colab": {
      "provenance": [],
      "mount_file_id": "15l3FgWtGX6X6IElAq7dFkvEkIlT2mHQ-",
      "authorship_tag": "ABX9TyN1W+XAYt8CIEpiueTlpP+g",
      "include_colab_link": true
    },
    "kernelspec": {
      "name": "python3",
      "display_name": "Python 3"
    },
    "language_info": {
      "name": "python"
    }
  },
  "cells": [
    {
      "cell_type": "markdown",
      "metadata": {
        "id": "view-in-github",
        "colab_type": "text"
      },
      "source": [
        "<a href=\"https://colab.research.google.com/github/SHUBHAM12012005/Vaccine-Prediction/blob/main/final_submission.ipynb\" target=\"_parent\"><img src=\"https://colab.research.google.com/assets/colab-badge.svg\" alt=\"Open In Colab\"/></a>"
      ]
    },
    {
      "cell_type": "code",
      "execution_count": null,
      "metadata": {
        "colab": {
          "base_uri": "https://localhost:8080/"
        },
        "id": "zF05_4O0Ye9K",
        "outputId": "3e5a4040-ae2c-4c6e-b7c4-dcf34fcf3dd4"
      },
      "outputs": [
        {
          "output_type": "stream",
          "name": "stdout",
          "text": [
            "Drive already mounted at /content/drive; to attempt to forcibly remount, call drive.mount(\"/content/drive\", force_remount=True).\n"
          ]
        }
      ],
      "source": [
        "from google.colab import drive\n",
        "drive.mount('/content/drive')\n"
      ]
    },
    {
      "cell_type": "code",
      "source": [
        "from google.colab import drive\n",
        "drive.mount('/content/drive')\n",
        "\n",
        "import pandas as pd\n",
        "from sklearn.pipeline import Pipeline\n",
        "from sklearn.compose import ColumnTransformer\n",
        "from sklearn.impute import SimpleImputer\n",
        "from sklearn.preprocessing import OneHotEncoder\n",
        "from sklearn.ensemble import GradientBoostingClassifier\n",
        "from sklearn.multioutput import MultiOutputClassifier\n",
        "from sklearn.model_selection import train_test_split\n",
        "from sklearn.metrics import roc_auc_score\n",
        "import numpy as np\n",
        "\n",
        "train_features = pd.read_csv('/content/drive/My Drive/hackathon1/training_set_features.csv')\n",
        "train_labels = pd.read_csv('/content/drive/My Drive/hackathon1/training_set_labels.csv')\n",
        "test_features = pd.read_csv('/content/drive/My Drive/hackathon1/test_set_features.csv')\n",
        "\n",
        "df = train_features.merge(train_labels, on='respondent_id')\n",
        "y = df[['xyz_vaccine', 'seasonal_vaccine']]\n",
        "X = df.drop(columns=['respondent_id', 'xyz_vaccine', 'seasonal_vaccine'])\n",
        "\n",
        "numerical_features = X.select_dtypes(include=['int64', 'float64']).columns\n",
        "categorical_features = X.select_dtypes(include=['object']).columns\n",
        "\n",
        "numerical_transformer = SimpleImputer(strategy='median')\n",
        "categorical_transformer = Pipeline(steps=[\n",
        "    ('imputer', SimpleImputer(strategy='most_frequent')),\n",
        "    ('onehot', OneHotEncoder(handle_unknown='ignore'))\n",
        "])\n",
        "\n",
        "preprocessor = ColumnTransformer(\n",
        "    transformers=[\n",
        "        ('num', numerical_transformer, numerical_features),\n",
        "        ('cat', categorical_transformer, categorical_features)\n",
        "    ])\n",
        "\n",
        "model = MultiOutputClassifier(GradientBoostingClassifier(random_state=42))\n",
        "\n",
        "pipeline = Pipeline(steps=[('preprocessor', preprocessor),\n",
        "                           ('classifier', model)])\n",
        "\n",
        "X_train, X_val, y_train, y_val = train_test_split(X, y, test_size=0.2, random_state=42)\n",
        "\n",
        "pipeline.fit(X_train, y_train)\n",
        "\n",
        "y_pred_proba = pipeline.predict_proba(X_val)\n",
        "\n",
        "y_pred_proba_df = pd.DataFrame(np.hstack([y_pred_proba[0][:, 1].reshape(-1, 1), y_pred_proba[1][:, 1].reshape(-1, 1)]),\n",
        "                               columns=['xyz_vaccine', 'seasonal_vaccine'])\n",
        "\n",
        "roc_auc_xyz = roc_auc_score(y_val['xyz_vaccine'], y_pred_proba_df['xyz_vaccine'])\n",
        "roc_auc_seasonal = roc_auc_score(y_val['seasonal_vaccine'], y_pred_proba_df['seasonal_vaccine'])\n",
        "mean_roc_auc = (roc_auc_xyz + roc_auc_seasonal) / 2\n",
        "\n",
        "print(f\"ROC AUC for xyz_vaccine: {roc_auc_xyz}\")\n",
        "print(f\"ROC AUC for seasonal_vaccine: {roc_auc_seasonal}\")\n",
        "print(f\"Mean ROC AUC: {mean_roc_auc}\")\n",
        "\n",
        "test_pred_proba = pipeline.predict_proba(test_features.drop(columns=['respondent_id']))\n",
        "\n",
        "test_pred_proba_df = pd.DataFrame(np.hstack([test_pred_proba[0][:, 1].reshape(-1, 1), test_pred_proba[1][:, 1].reshape(-1, 1)]),\n",
        "                                  columns=['xyz_vaccine', 'seasonal_vaccine'])\n",
        "\n",
        "submission = pd.DataFrame({\n",
        "    'respondent_id': test_features['respondent_id'],\n",
        "    'xyz_vaccine': test_pred_proba_df['xyz_vaccine'],\n",
        "    'seasonal_vaccine': test_pred_proba_df['seasonal_vaccine']\n",
        "})\n",
        "\n",
        "submission.to_csv('/content/drive/My Drive/hackathon1/submission.csv', index=False)\n",
        "print(\"Submission file created successfully.\")\n"
      ],
      "metadata": {
        "colab": {
          "base_uri": "https://localhost:8080/"
        },
        "id": "uGjJirUAYuGz",
        "outputId": "1e87e40e-8fae-4cf7-dc59-3ffd2264ce27"
      },
      "execution_count": 1,
      "outputs": [
        {
          "output_type": "stream",
          "name": "stdout",
          "text": [
            "Drive already mounted at /content/drive; to attempt to forcibly remount, call drive.mount(\"/content/drive\", force_remount=True).\n",
            "ROC AUC for xyz_vaccine: 0.838986692047164\n",
            "ROC AUC for seasonal_vaccine: 0.8608546254424846\n",
            "Mean ROC AUC: 0.8499206587448243\n",
            "Submission file created successfully.\n"
          ]
        }
      ]
    },
    {
      "cell_type": "markdown",
      "source": [],
      "metadata": {
        "id": "3D2B8Vc5famt"
      }
    }
  ]
}